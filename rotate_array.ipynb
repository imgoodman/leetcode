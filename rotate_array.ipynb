{
 "cells": [
  {
   "cell_type": "code",
   "execution_count": 4,
   "metadata": {
    "collapsed": true
   },
   "outputs": [],
   "source": [
    "import time"
   ]
  },
  {
   "cell_type": "code",
   "execution_count": 37,
   "metadata": {},
   "outputs": [
    {
     "name": "stdout",
     "output_type": "stream",
     "text": [
      "777777 time is: 0.23901772499084473\n",
      "7 time is: 0.0\n",
      "[1, 2, 3, 4, 5, 6, 7]\n"
     ]
    }
   ],
   "source": [
    "def rotate1(nums, k, is_display=False):\n",
    "    \"\"\"\n",
    "    最简单的想法是\n",
    "    逐个把最后的元素  移动到第一个位置\n",
    "    复杂度：O（k*n）\n",
    "    \"\"\"\n",
    "    start=time.time()\n",
    "    for i in range(k):\n",
    "        last=nums[-1]\n",
    "        for idx in range(len(nums)-2,-1,-1):\n",
    "            nums[idx+1]=nums[idx]\n",
    "        nums[0]=last\n",
    "    end=time.time()\n",
    "    print(str(len(nums))+\" time is:\", end-start)\n",
    "    if is_display:\n",
    "        print(nums)\n",
    "a=list(range(777777))\n",
    "t=list(range(1,8))\n",
    "rotate1(a, 3)\n",
    "rotate1(t,7, is_display=True)\n",
    "#print(a)"
   ]
  },
  {
   "cell_type": "code",
   "execution_count": 29,
   "metadata": {},
   "outputs": [
    {
     "name": "stdout",
     "output_type": "stream",
     "text": [
      "777777 time is: 0.07901549339294434\n",
      "7 time is: 0.0\n",
      "[5, 6, 7, 1, 2, 3, 4]\n"
     ]
    }
   ],
   "source": [
    "def rotate2(nums, k, is_display=False):\n",
    "    \"\"\"\n",
    "    先把最后k个数字保存下来\n",
    "    然后，把剩余的数字往后移动k下\n",
    "    最后，把保存的数字放在前面\n",
    "    复杂度：O（n）\n",
    "    \"\"\"\n",
    "    start=time.time()\n",
    "    to_be_moved=nums[-k:]\n",
    "    for idx in range(len(nums)-k-1,-1,-1):\n",
    "        nums[idx+k]=nums[idx]\n",
    "    for idx in range(k-1,-1,-1):\n",
    "        nums[idx]=to_be_moved[idx]\n",
    "    end=time.time()\n",
    "    print(str(len(nums))+\" time is:\", end-start)\n",
    "    if is_display:\n",
    "        print(nums)\n",
    "a=list(range(777777))\n",
    "t=list(range(1,8))\n",
    "rotate2(a, 3)\n",
    "rotate2(t, 3, is_display=True)"
   ]
  }
 ],
 "metadata": {
  "kernelspec": {
   "display_name": "Python 3",
   "language": "python",
   "name": "python3"
  },
  "language_info": {
   "codemirror_mode": {
    "name": "ipython",
    "version": 3
   },
   "file_extension": ".py",
   "mimetype": "text/x-python",
   "name": "python",
   "nbconvert_exporter": "python",
   "pygments_lexer": "ipython3",
   "version": "3.6.2"
  }
 },
 "nbformat": 4,
 "nbformat_minor": 2
}
