{
 "cells": [
  {
   "cell_type": "code",
   "execution_count": 18,
   "metadata": {},
   "outputs": [
    {
     "name": "stdout",
     "output_type": "stream",
     "text": [
      "[0, 0, 1, 0, 0, 0, 0, 1, 0, 0, 0, 0, 0]\n",
      "[[(0, 2), (0, 7)], [(1, 7), (1, 8), (1, 9)], [(2, 1), (2, 2), (2, 4)], [(3, 1), (3, 4), (3, 5), (3, 8), (3, 10)], [(4, 1), (4, 4), (4, 5), (4, 8), (4, 9), (4, 10)], [(5, 10)], [(6, 7), (6, 8), (6, 9)], [(7, 7), (7, 8)]]\n",
      "None\n"
     ]
    }
   ],
   "source": [
    "def maxAreaOfIsland(grid):\n",
    "    area=[]\n",
    "    pos_1s=[[(i,j) for j in range(len(grid[i])) if grid[i][j]==1] for i in range(len(grid))]\n",
    "    print(pos_1s)\n",
    "        \n",
    "    \n",
    "    \n",
    "\n",
    "grid=[[0,0,1,0,0,0,0,1,0,0,0,0,0],\n",
    " [0,0,0,0,0,0,0,1,1,1,0,0,0],\n",
    " [0,1,1,0,1,0,0,0,0,0,0,0,0],\n",
    " [0,1,0,0,1,1,0,0,1,0,1,0,0],\n",
    " [0,1,0,0,1,1,0,0,1,1,1,0,0],\n",
    " [0,0,0,0,0,0,0,0,0,0,1,0,0],\n",
    " [0,0,0,0,0,0,0,1,1,1,0,0,0],\n",
    " [0,0,0,0,0,0,0,1,1,0,0,0,0]]\n",
    "\n",
    "print(grid[:][0])\n",
    "print(maxAreaOfIsland(grid))"
   ]
  },
  {
   "cell_type": "code",
   "execution_count": null,
   "metadata": {
    "collapsed": true
   },
   "outputs": [],
   "source": []
  }
 ],
 "metadata": {
  "kernelspec": {
   "display_name": "Python 3",
   "language": "python",
   "name": "python3"
  },
  "language_info": {
   "codemirror_mode": {
    "name": "ipython",
    "version": 3
   },
   "file_extension": ".py",
   "mimetype": "text/x-python",
   "name": "python",
   "nbconvert_exporter": "python",
   "pygments_lexer": "ipython3",
   "version": "3.6.2"
  }
 },
 "nbformat": 4,
 "nbformat_minor": 2
}
