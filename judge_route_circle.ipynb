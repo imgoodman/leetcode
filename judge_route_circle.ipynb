{
 "cells": [
  {
   "cell_type": "code",
   "execution_count": 3,
   "metadata": {
    "collapsed": true
   },
   "outputs": [],
   "source": [
    "\"\"\"\n",
    "思路\n",
    "判断UD，LR出现的次数\n",
    "只有它们出现的次数，相同时候，才会回到原点\n",
    "\"\"\"\n",
    "def judgeCircle(moves):\n",
    "    cnt={\n",
    "        \"X\":0,\n",
    "        \"Y\":0\n",
    "    }\n",
    "    for c in moves:\n",
    "        if c==\"L\":\n",
    "            cnt[\"X\"]-=1\n",
    "        elif c==\"R\":\n",
    "            cnt[\"X\"]+=1\n",
    "        elif c==\"U\":\n",
    "            cnt[\"Y\"]+=1\n",
    "        elif c==\"D\":\n",
    "            cnt[\"Y\"]-=1\n",
    "    if cnt[\"X\"]==0 and cnt[\"Y\"]==0:\n",
    "        return True\n",
    "    else:\n",
    "        return False"
   ]
  },
  {
   "cell_type": "code",
   "execution_count": 5,
   "metadata": {},
   "outputs": [
    {
     "data": {
      "text/plain": [
       "False"
      ]
     },
     "execution_count": 5,
     "metadata": {},
     "output_type": "execute_result"
    }
   ],
   "source": [
    "judgeCircle(\"LL\")"
   ]
  },
  {
   "cell_type": "code",
   "execution_count": null,
   "metadata": {
    "collapsed": true
   },
   "outputs": [],
   "source": []
  }
 ],
 "metadata": {
  "kernelspec": {
   "display_name": "Python 3",
   "language": "python",
   "name": "python3"
  },
  "language_info": {
   "codemirror_mode": {
    "name": "ipython",
    "version": 3
   },
   "file_extension": ".py",
   "mimetype": "text/x-python",
   "name": "python",
   "nbconvert_exporter": "python",
   "pygments_lexer": "ipython3",
   "version": "3.6.2"
  }
 },
 "nbformat": 4,
 "nbformat_minor": 2
}
