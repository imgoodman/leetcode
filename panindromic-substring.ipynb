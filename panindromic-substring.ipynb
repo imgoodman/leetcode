{
 "cells": [
  {
   "cell_type": "code",
   "execution_count": null,
   "metadata": {
    "collapsed": true
   },
   "outputs": [],
   "source": [
    "def countSubstrings(s):\n",
    "    def is_palindromic(a):\n",
    "        a_rev=[]\n",
    "        for i in range(len(a)-1,-1,-1):\n",
    "            a_rev.append(a[i])\n",
    "        a_rev=\"\".join(a_rev)\n",
    "        if a_rev==a:\n",
    "            return True\n",
    "        else:\n",
    "            return False\n",
    "    \n",
    "    subs=[]\n",
    "    for i in range(1,len(s)):\n",
    "        subs.append(s[i])"
   ]
  },
  {
   "cell_type": "code",
   "execution_count": 2,
   "metadata": {},
   "outputs": [
    {
     "data": {
      "text/plain": [
       "True"
      ]
     },
     "execution_count": 2,
     "metadata": {},
     "output_type": "execute_result"
    }
   ],
   "source": [
    "def is_palindromic(a):\n",
    "        a_rev=[]\n",
    "        for i in range(len(a)-1,-1,-1):\n",
    "            a_rev.append(a[i])\n",
    "        a_rev=\"\".join(a_rev)\n",
    "        if a_rev==a:\n",
    "            return True\n",
    "        else:\n",
    "            return False\n",
    "is_palindromic(\"aba\")"
   ]
  },
  {
   "cell_type": "code",
   "execution_count": null,
   "metadata": {
    "collapsed": true
   },
   "outputs": [],
   "source": []
  }
 ],
 "metadata": {
  "kernelspec": {
   "display_name": "Python 3",
   "language": "python",
   "name": "python3"
  },
  "language_info": {
   "codemirror_mode": {
    "name": "ipython",
    "version": 3
   },
   "file_extension": ".py",
   "mimetype": "text/x-python",
   "name": "python",
   "nbconvert_exporter": "python",
   "pygments_lexer": "ipython3",
   "version": "3.6.2"
  }
 },
 "nbformat": 4,
 "nbformat_minor": 2
}
