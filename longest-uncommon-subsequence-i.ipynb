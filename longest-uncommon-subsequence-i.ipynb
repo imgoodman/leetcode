{
 "cells": [
  {
   "cell_type": "code",
   "execution_count": 12,
   "metadata": {},
   "outputs": [
    {
     "name": "stdout",
     "output_type": "stream",
     "text": [
      "['aba']\n",
      "['aba']\n"
     ]
    },
    {
     "data": {
      "text/plain": [
       "3"
      ]
     },
     "execution_count": 12,
     "metadata": {},
     "output_type": "execute_result"
    }
   ],
   "source": [
    "def findLUSlength(a,b):\n",
    "    def getSubs(s, cnt):\n",
    "        subs=[]\n",
    "        for i in range(len(s) - cnt +1):\n",
    "            subs.append(s[i:i+cnt])\n",
    "        return list(set(subs))\n",
    "    max_a=len(a)\n",
    "    for i in range(max_a, 0, -1):\n",
    "        a_subs=getSubs(a, i)\n",
    "        print(a_subs)\n",
    "        for sub in a_subs:\n",
    "            if sub not in b:\n",
    "                max_a=i\n",
    "                break\n",
    "            else:\n",
    "                max_a=-1\n",
    "        if max_a>-1:\n",
    "            break\n",
    "    \n",
    "    max_b=len(b)\n",
    "    for i in range(max_b, 0, -1):\n",
    "        b_subs=getSubs(b, i)\n",
    "        print(b_subs)\n",
    "        for sub in b_subs:\n",
    "            if sub not in a:\n",
    "                max_b=i\n",
    "                break\n",
    "        if max_b>-1:\n",
    "            break\n",
    "    return min(max_a, max_b)\n",
    "a=\"aba\"\n",
    "b=\"aba\"\n",
    "findLUSlength(a,b)"
   ]
  },
  {
   "cell_type": "code",
   "execution_count": null,
   "metadata": {
    "collapsed": true
   },
   "outputs": [],
   "source": []
  }
 ],
 "metadata": {
  "kernelspec": {
   "display_name": "Python 3",
   "language": "python",
   "name": "python3"
  },
  "language_info": {
   "codemirror_mode": {
    "name": "ipython",
    "version": 3
   },
   "file_extension": ".py",
   "mimetype": "text/x-python",
   "name": "python",
   "nbconvert_exporter": "python",
   "pygments_lexer": "ipython3",
   "version": "3.6.2"
  }
 },
 "nbformat": 4,
 "nbformat_minor": 2
}
