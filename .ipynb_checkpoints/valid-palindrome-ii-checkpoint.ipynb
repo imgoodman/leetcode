{
 "cells": [
  {
   "cell_type": "code",
   "execution_count": 5,
   "metadata": {},
   "outputs": [
    {
     "name": "stdout",
     "output_type": "stream",
     "text": [
      "0.08099842071533203\n"
     ]
    }
   ],
   "source": [
    "import time\n",
    "def validPalindrome(s):\n",
    "    \"\"\"\n",
    "    :type s: str\n",
    "    :rtype: bool\n",
    "    \"\"\"\n",
    "    def is_palindromic(a):\n",
    "        half=int(len(a)/2)\n",
    "        for i in range(half):\n",
    "            if a[i]!=a[len(a)-i-1]:\n",
    "                return False\n",
    "        return True\n",
    "\n",
    "    if is_palindromic(s):\n",
    "        return True\n",
    "\n",
    "    for i in range(len(s)):\n",
    "        if is_palindromic(s[:i]+s[i+1:]):\n",
    "            return True\n",
    "    return False\n",
    "\n",
    "s=\"vrditzikraudagiukntqmrrrkoundpajepuojyxsmdbuiibhlirwuvnpdsdgikgpfifxlsxffnjoivgyvzryoebgikivmianxrnlijcgfnrpbzvldekeegjkyazyfzxgarinudspvubjwdodggtpzzboetsqkoltvldzccwkfoagponsllaooihbntpciskzumpvixnudlvbusfbupaztalbhhzefvswqaphlvyuzbaskhkrpkrqqzvfkkxvoycyjvjdwgxsogzlkytdfhnmlzeeimreehlzapoxfjuyencmwrvgtujovsmuklanvrqnuykvqheobazsdewoqxsvyuzargcbvrgmytnbwseyucsojvdunoaclqtjkpxoxznzzlwxnnkuebhiticalkkvisjoikujmdrkcyyedxztulteelkwzxyvkazqxkbfdjjmhtcysvmsclrsqsieolslsnzfhcocdokouzvlbqoxmpjnyaibmwzuusgrcmxwyibpnvcparwmtewevoazngulpshvskbtmywmdlpugqefqgtdtejdksaacorrgtuuebqrsmwhwxsfuynuunzykpupjzgeagkwdgxfdbqlcsysjvryevmboyqcsknnmovogzeqipwekwbqifzwdiawiuabehfkhuaelleixyqlpudspilshqeqxtzypldxkknrylfpjxkqtlsoxyjybverwzywwwmuuilfmwdnfcwkdmnricuttgbpgoyxclvasoqhjempozglbzwompqmyrtthadmuftznosmnwghryotbcxlocmnokxlhtgsxlyswrecxzpkbmwgbuskqhugmteaebhvdddqlobiutadyhbkjazhhyahbzlzugqxhdyecdxlxooceverumsrbqlgflqtdgtrbmhoqcvzuxzxxgpceswwbzyecfcyjwpmcphzqonzzcjuyalcriferobtrpflqfjkhrgcknvplausvnlgcotjjtocglnvsualpvnkcgrhkjfqlfprtborefirclayujczznoqzhpcmpwjycfceyzbwwsecpgxxzxuzvcqohmbrtgdtqlfglqbrsmurevecooxlxdceydhxqguzlzbhayhhzajkbhydatuibolqdddvhbeaetmguhqksubgwmbkpzxcerwsylxsgthlxkonmcolxcbtoyrhgwnmsonztfumdahttrymqpmowzblgzopmejhqosavlcxyogpbgttucirnmdkwcfndwmfliuumwwwyzwrevbyjyxosltqkxjpflyrnkkxdlpyztxqeqhslipsduplqyxielleauhkfhebauiwaidwzfiqbwkewpiqezgovomnnkscqyobmveyrvjsysclqbdfxgdwkgaegzjpupkyznuunyufsxwhwmsrqbeuutgrrocaaskdjetdtgqfeqgupldmwymtbksvhsplugnzaovewetmwrapcvnpbiywxmcrgsuuzwmbiaynjpmxoqblvzuokodcochfznslsloeisqsrlcsmvsycthmjjdfbkxqzakvyxzwkleetlutzxdeyyckrdmjukiojsivkklacitihbeuknnxwlzznzxoxpkjtqlcaonudvjoscuyeswbntymgrvbcgrazuyvsxqowedszaboehqvkyunqrvnalkumsvojutgvrwmcneyujfxopazlheermieezlmnhfdtyklzgosxgwdjvjycyovxkkfvzqqrkprkhksabzuyvlhpaqwsvfezhhblatzapubfsubvldunxivpmruzksicptnbhiooallsnopgaofkwcczdlvtlokqsteobzzptggdodwjbuvpsduniragxzfyzaykjgeekedlvzbprnfgcjilnrxnaimvikigbeoyrzvygviojnffxslxfifpgkigdsdpnvuwrilhbiiubdmsxyjoupejapdnuokrrrmqtnkuigaduarkiztidrv\"\n",
    "start=time.time()\n",
    "validPalindrome(s)\n",
    "end=time.time()\n",
    "print(end-start)"
   ]
  },
  {
   "cell_type": "code",
   "execution_count": null,
   "metadata": {
    "collapsed": true
   },
   "outputs": [],
   "source": []
  }
 ],
 "metadata": {
  "kernelspec": {
   "display_name": "Python 3",
   "language": "python",
   "name": "python3"
  },
  "language_info": {
   "codemirror_mode": {
    "name": "ipython",
    "version": 3
   },
   "file_extension": ".py",
   "mimetype": "text/x-python",
   "name": "python",
   "nbconvert_exporter": "python",
   "pygments_lexer": "ipython3",
   "version": "3.6.2"
  }
 },
 "nbformat": 4,
 "nbformat_minor": 2
}
