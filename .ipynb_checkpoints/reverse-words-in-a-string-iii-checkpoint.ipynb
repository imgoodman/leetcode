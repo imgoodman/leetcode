{
 "cells": [
  {
   "cell_type": "code",
   "execution_count": 18,
   "metadata": {},
   "outputs": [
    {
     "data": {
      "text/plain": [
       "\"s'teL ekat edoCteeL tsetnoC\""
      ]
     },
     "execution_count": 18,
     "metadata": {},
     "output_type": "execute_result"
    }
   ],
   "source": [
    "def reverseWords(s):\n",
    "    words=s.split()\n",
    "    def reverseOneWord(w):\n",
    "        cnt=len(w)\n",
    "        half=int(cnt/2)\n",
    "        w=[c for c in w]\n",
    "        for i in range(half):\n",
    "            end=cnt-i-1\n",
    "            t=w[i]\n",
    "            w[i]=w[end]\n",
    "            w[end]=t\n",
    "        return \"\".join(w)\n",
    "    return \" \".join([reverseOneWord(word) for word in words])\n",
    "reverseWords(\"Let's take LeetCode Contest\")"
   ]
  }
 ],
 "metadata": {
  "kernelspec": {
   "display_name": "Python 3",
   "language": "python",
   "name": "python3"
  },
  "language_info": {
   "codemirror_mode": {
    "name": "ipython",
    "version": 3
   },
   "file_extension": ".py",
   "mimetype": "text/x-python",
   "name": "python",
   "nbconvert_exporter": "python",
   "pygments_lexer": "ipython3",
   "version": "3.6.2"
  }
 },
 "nbformat": 4,
 "nbformat_minor": 2
}
