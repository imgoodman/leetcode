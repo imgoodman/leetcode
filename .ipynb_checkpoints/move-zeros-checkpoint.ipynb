{
 "cells": [
  {
   "cell_type": "code",
   "execution_count": 6,
   "metadata": {},
   "outputs": [
    {
     "name": "stdout",
     "output_type": "stream",
     "text": [
      "zero idx: 0 ; not zero idx: 1\n",
      "zero idx: 1 ; not zero idx: 3\n",
      "zero idx: 2 ; not zero idx: 4\n"
     ]
    },
    {
     "data": {
      "text/plain": [
       "[1, 3, 12, 0, 0]"
      ]
     },
     "execution_count": 6,
     "metadata": {},
     "output_type": "execute_result"
    }
   ],
   "source": [
    "def moveZeros(nums):\n",
    "    zero_idx, not_zero_idx=-1,-1\n",
    "    while True:\n",
    "        for i in range(0, len(nums)):\n",
    "            if nums[i]==0:\n",
    "                zero_idx=i\n",
    "                break\n",
    "        for i in range(zero_idx, len(nums)):\n",
    "            if nums[i]!=0:\n",
    "                not_zero_idx=i\n",
    "                break\n",
    "        print(\"zero idx:\" , zero_idx, \"; not zero idx:\", not_zero_idx)\n",
    "        if zero_idx==-1 or not_zero_idx==-1:\n",
    "            break\n",
    "        nums[zero_idx]=nums[not_zero_idx]\n",
    "        nums[not_zero_idx]=0\n",
    "        if i==len(nums)-1:\n",
    "            break\n",
    "nums=[0,1,0,3,12]\n",
    "moveZeros(nums)\n",
    "nums"
   ]
  },
  {
   "cell_type": "code",
   "execution_count": 8,
   "metadata": {},
   "outputs": [
    {
     "data": {
      "text/plain": [
       "[1, 0, 0]"
      ]
     },
     "execution_count": 8,
     "metadata": {},
     "output_type": "execute_result"
    }
   ],
   "source": [
    "def moveZeros2(nums):\n",
    "    for i in range(len(nums)):\n",
    "        if nums[i]==0:\n",
    "            zero_idx=i\n",
    "            for j in range(i+1, len(nums)):\n",
    "                if nums[j]!=0:\n",
    "                    nums[zero_idx]=nums[j]\n",
    "                    nums[j]=0\n",
    "                    zero_idx=j\n",
    "nums=[0,1,0]\n",
    "moveZeros2(nums)\n",
    "nums"
   ]
  },
  {
   "cell_type": "code",
   "execution_count": null,
   "metadata": {
    "collapsed": true
   },
   "outputs": [],
   "source": []
  }
 ],
 "metadata": {
  "kernelspec": {
   "display_name": "Python 3",
   "language": "python",
   "name": "python3"
  },
  "language_info": {
   "codemirror_mode": {
    "name": "ipython",
    "version": 3
   },
   "file_extension": ".py",
   "mimetype": "text/x-python",
   "name": "python",
   "nbconvert_exporter": "python",
   "pygments_lexer": "ipython3",
   "version": "3.6.2"
  }
 },
 "nbformat": 4,
 "nbformat_minor": 2
}
