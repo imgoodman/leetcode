{
 "cells": [
  {
   "cell_type": "code",
   "execution_count": 6,
   "metadata": {},
   "outputs": [
    {
     "data": {
      "text/plain": [
       "'0+-2i'"
      ]
     },
     "execution_count": 6,
     "metadata": {},
     "output_type": "execute_result"
    }
   ],
   "source": [
    "def complexNumberMultiply(a,b):\n",
    "    def get_a_b(a):\n",
    "        arr=a.split(\"+\")\n",
    "        a_int=int(arr[0])\n",
    "        b_int=int(arr[1][:-1])\n",
    "        return a_int, b_int\n",
    "    a_a_int, a_b_int=get_a_b(a)\n",
    "    b_a_int, b_b_int=get_a_b(b)\n",
    "    total_a=a_a_int*b_a_int-a_b_int*b_b_int\n",
    "    total_b=a_a_int*b_b_int+a_b_int*b_a_int\n",
    "    return str(total_a)+\"+\"+str(total_b)+\"i\"\n",
    "complexNumberMultiply(\"1+-1i\", \"1+-1i\")"
   ]
  },
  {
   "cell_type": "code",
   "execution_count": null,
   "metadata": {
    "collapsed": true
   },
   "outputs": [],
   "source": []
  }
 ],
 "metadata": {
  "kernelspec": {
   "display_name": "Python 3",
   "language": "python",
   "name": "python3"
  },
  "language_info": {
   "codemirror_mode": {
    "name": "ipython",
    "version": 3
   },
   "file_extension": ".py",
   "mimetype": "text/x-python",
   "name": "python",
   "nbconvert_exporter": "python",
   "pygments_lexer": "ipython3",
   "version": "3.6.2"
  }
 },
 "nbformat": 4,
 "nbformat_minor": 2
}
